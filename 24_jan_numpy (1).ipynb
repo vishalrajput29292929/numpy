{
 "cells": [
  {
   "cell_type": "code",
   "execution_count": 1,
   "id": "29206002-e57e-4666-9b5b-16192d6f33ae",
   "metadata": {},
   "outputs": [],
   "source": [
    "#1. What is a Python library? Why ^o we use Python libraries?"
   ]
  },
  {
   "cell_type": "code",
   "execution_count": 2,
   "id": "f4d10967-5bbe-48f8-8e47-14ce9eda2a70",
   "metadata": {},
   "outputs": [
    {
     "data": {
      "text/plain": [
       "'python libraray are numpy and pandas which is used to perform mathametical operation and for visualisation'"
      ]
     },
     "execution_count": 2,
     "metadata": {},
     "output_type": "execute_result"
    }
   ],
   "source": [
    "\"\"\"python libraray are numpy and pandas which is used to perform mathametical operation and for visualisation\"\"\""
   ]
  },
  {
   "cell_type": "code",
   "execution_count": 4,
   "id": "cb396355-93c5-4aac-a9cf-ddffa345b38f",
   "metadata": {},
   "outputs": [],
   "source": [
    "#2. What is the difference between Numpy array and List?"
   ]
  },
  {
   "cell_type": "code",
   "execution_count": 5,
   "id": "15df3da7-853e-488a-9281-428a1a2654bf",
   "metadata": {},
   "outputs": [
    {
     "data": {
      "text/plain": [
       "'array contain homogenious data where list contain hetrogenoeuos data'"
      ]
     },
     "execution_count": 5,
     "metadata": {},
     "output_type": "execute_result"
    }
   ],
   "source": [
    "\"\"\"array contain homogenious data where list contain hetrogenoeuos data\"\"\""
   ]
  },
  {
   "cell_type": "code",
   "execution_count": 24,
   "id": "0ebb889a-00f5-41e5-86e8-5a98ffd0c88e",
   "metadata": {},
   "outputs": [],
   "source": [
    "#3. Find the shape, size and dimension of the following array?[[1, 2, 3, 4][5, 6, 7, 8],[9, 10, 11, 12]]"
   ]
  },
  {
   "cell_type": "code",
   "execution_count": 25,
   "id": "6fc65ab3-5dd0-4f65-9ba5-93b8d0bc7808",
   "metadata": {},
   "outputs": [],
   "source": [
    "import numpy as np"
   ]
  },
  {
   "cell_type": "code",
   "execution_count": 26,
   "id": "37f72817-11d8-4ce9-85a5-16cf59130125",
   "metadata": {},
   "outputs": [],
   "source": [
    "arr1 = [[1, 2, 3, 4],[5, 6, 7, 8],[9, 10, 11, 12]]"
   ]
  },
  {
   "cell_type": "code",
   "execution_count": 27,
   "id": "2715a346-34bb-45ba-813c-28faf67b3e35",
   "metadata": {},
   "outputs": [
    {
     "data": {
      "text/plain": [
       "(3, 4)"
      ]
     },
     "execution_count": 27,
     "metadata": {},
     "output_type": "execute_result"
    }
   ],
   "source": [
    "np.shape(arr1)"
   ]
  },
  {
   "cell_type": "code",
   "execution_count": 28,
   "id": "8f0d193c-7ec6-4a5c-82b2-2c308335329f",
   "metadata": {},
   "outputs": [
    {
     "data": {
      "text/plain": [
       "12"
      ]
     },
     "execution_count": 28,
     "metadata": {},
     "output_type": "execute_result"
    }
   ],
   "source": [
    "np.size(arr1)"
   ]
  },
  {
   "cell_type": "code",
   "execution_count": 29,
   "id": "e6cb98e1-76a5-4702-8e1e-9f8aa0c34607",
   "metadata": {},
   "outputs": [],
   "source": [
    "arr = np.array(arr1)"
   ]
  },
  {
   "cell_type": "code",
   "execution_count": 30,
   "id": "1e0849c9-45da-4b1f-9bdd-01be0a26625e",
   "metadata": {},
   "outputs": [
    {
     "data": {
      "text/plain": [
       "array([[ 1,  2,  3,  4],\n",
       "       [ 5,  6,  7,  8],\n",
       "       [ 9, 10, 11, 12]])"
      ]
     },
     "execution_count": 30,
     "metadata": {},
     "output_type": "execute_result"
    }
   ],
   "source": [
    "arr"
   ]
  },
  {
   "cell_type": "code",
   "execution_count": 31,
   "id": "b0e532d6-9bca-480a-853a-89eca4a6adf6",
   "metadata": {},
   "outputs": [
    {
     "data": {
      "text/plain": [
       "2"
      ]
     },
     "execution_count": 31,
     "metadata": {},
     "output_type": "execute_result"
    }
   ],
   "source": [
    "np.ndim(arr)"
   ]
  },
  {
   "cell_type": "code",
   "execution_count": 84,
   "id": "e0e15b34-7064-4a46-9918-ca094ccf80f4",
   "metadata": {},
   "outputs": [],
   "source": [
    "#4. Write python code to access the first row of the following array?[[1, 2, 3, 4].[5, 6, 7, 8],[9, 10, 11, 12]]"
   ]
  },
  {
   "cell_type": "code",
   "execution_count": 33,
   "id": "037c16d4-dd0d-445d-b384-b95b881096c0",
   "metadata": {},
   "outputs": [],
   "source": [
    "l = [[1, 2, 3, 4],[5, 6, 7, 8],[9, 10, 11, 12]]"
   ]
  },
  {
   "cell_type": "code",
   "execution_count": 35,
   "id": "d294e0fc-1304-4302-aaff-fb63a5c18f2e",
   "metadata": {},
   "outputs": [],
   "source": [
    "arr3= np.array(l)"
   ]
  },
  {
   "cell_type": "code",
   "execution_count": 36,
   "id": "374d69f9-ac3b-4d71-85d8-bb6177a536d5",
   "metadata": {},
   "outputs": [
    {
     "data": {
      "text/plain": [
       "array([[ 1,  2,  3,  4],\n",
       "       [ 5,  6,  7,  8],\n",
       "       [ 9, 10, 11, 12]])"
      ]
     },
     "execution_count": 36,
     "metadata": {},
     "output_type": "execute_result"
    }
   ],
   "source": [
    "arr3"
   ]
  },
  {
   "cell_type": "code",
   "execution_count": 38,
   "id": "c677756c-d572-407e-bccf-8feb482b5273",
   "metadata": {},
   "outputs": [
    {
     "data": {
      "text/plain": [
       "array([1, 2, 3, 4])"
      ]
     },
     "execution_count": 38,
     "metadata": {},
     "output_type": "execute_result"
    }
   ],
   "source": [
    "arr3[0]"
   ]
  },
  {
   "cell_type": "code",
   "execution_count": 85,
   "id": "d8027188-8537-425d-a46e-4c56f78c1c88",
   "metadata": {},
   "outputs": [],
   "source": [
    "#5. How do you access the element at the third row and fourth column from the given numpy array?[[1, 2, 3, 4],[5, 6, 7, 8],[9, 10, 11, 12]]"
   ]
  },
  {
   "cell_type": "code",
   "execution_count": 39,
   "id": "8cc09fdc-9013-4ec8-8ce0-4232be7e3de0",
   "metadata": {},
   "outputs": [
    {
     "data": {
      "text/plain": [
       "array([[ 1,  2,  3,  4],\n",
       "       [ 5,  6,  7,  8],\n",
       "       [ 9, 10, 11, 12]])"
      ]
     },
     "execution_count": 39,
     "metadata": {},
     "output_type": "execute_result"
    }
   ],
   "source": [
    "arr3"
   ]
  },
  {
   "cell_type": "code",
   "execution_count": 45,
   "id": "e5c0869c-1aea-4332-a2de-d3e1768b25d9",
   "metadata": {},
   "outputs": [
    {
     "data": {
      "text/plain": [
       "array([ 9, 10, 11, 12])"
      ]
     },
     "execution_count": 45,
     "metadata": {},
     "output_type": "execute_result"
    }
   ],
   "source": [
    "arr3[2]"
   ]
  },
  {
   "cell_type": "code",
   "execution_count": 48,
   "id": "1fd5921b-4259-4185-8542-a515c7def1f1",
   "metadata": {},
   "outputs": [
    {
     "data": {
      "text/plain": [
       "array([ 4,  8, 12])"
      ]
     },
     "execution_count": 48,
     "metadata": {},
     "output_type": "execute_result"
    }
   ],
   "source": [
    "arr3[:, -1]"
   ]
  },
  {
   "cell_type": "code",
   "execution_count": 86,
   "id": "cede0641-1b08-44c2-9516-28c91d978759",
   "metadata": {},
   "outputs": [
    {
     "ename": "SyntaxError",
     "evalue": "invalid syntax (3141854106.py, line 1)",
     "output_type": "error",
     "traceback": [
      "\u001b[0;36m  Cell \u001b[0;32mIn[86], line 1\u001b[0;36m\u001b[0m\n\u001b[0;31m    6. Write code to extract all odd-indexed elements from the given numpy array?[[1, 2, 3, 4],[5, 6, 7, 8],[9, 10, 11, 12]]\u001b[0m\n\u001b[0m       ^\u001b[0m\n\u001b[0;31mSyntaxError\u001b[0m\u001b[0;31m:\u001b[0m invalid syntax\n"
     ]
    }
   ],
   "source": [
    "6. Write code to extract all odd-indexed elements from the given numpy array?[[1, 2, 3, 4],[5, 6, 7, 8],[9, 10, 11, 12]]"
   ]
  },
  {
   "cell_type": "code",
   "execution_count": 49,
   "id": "1843a8b5-bfe6-4a50-830b-dda58759f0a6",
   "metadata": {},
   "outputs": [
    {
     "data": {
      "text/plain": [
       "array([[ 1,  2,  3,  4],\n",
       "       [ 5,  6,  7,  8],\n",
       "       [ 9, 10, 11, 12]])"
      ]
     },
     "execution_count": 49,
     "metadata": {},
     "output_type": "execute_result"
    }
   ],
   "source": [
    "arr3"
   ]
  },
  {
   "cell_type": "code",
   "execution_count": 50,
   "id": "8504af51-7871-4094-a7ff-93cb7b8db482",
   "metadata": {},
   "outputs": [
    {
     "data": {
      "text/plain": [
       "array([ 1,  3,  5,  7,  9, 11])"
      ]
     },
     "execution_count": 50,
     "metadata": {},
     "output_type": "execute_result"
    }
   ],
   "source": [
    "\n",
    "arr3[arr3 % 2 == 1]"
   ]
  },
  {
   "cell_type": "code",
   "execution_count": 51,
   "id": "9066e92d-6e05-4643-b7b7-4006971197d9",
   "metadata": {},
   "outputs": [],
   "source": [
    "#7. How can you generate a ran^om 3x3 matrix with values between 0 an^ 1?"
   ]
  },
  {
   "cell_type": "code",
   "execution_count": 52,
   "id": "858e8628-0c6e-4d10-ba33-844795174960",
   "metadata": {},
   "outputs": [],
   "source": [
    "arr1=np.random.randint(0,1,(3,3))"
   ]
  },
  {
   "cell_type": "code",
   "execution_count": 53,
   "id": "5207fcdf-ad62-4812-9fd4-cef77e619ff5",
   "metadata": {},
   "outputs": [
    {
     "data": {
      "text/plain": [
       "array([[0, 0, 0],\n",
       "       [0, 0, 0],\n",
       "       [0, 0, 0]])"
      ]
     },
     "execution_count": 53,
     "metadata": {},
     "output_type": "execute_result"
    }
   ],
   "source": [
    "arr1"
   ]
  },
  {
   "cell_type": "code",
   "execution_count": 54,
   "id": "8a49d557-0c4d-4149-9cfd-35476392b6e0",
   "metadata": {},
   "outputs": [],
   "source": [
    "#8. Describe the ^ifference between np.ran^om.ran^ an^ np.ran^om.ran^n?"
   ]
  },
  {
   "cell_type": "code",
   "execution_count": 55,
   "id": "85120283-d2f0-48b2-9c41-d92fcba766df",
   "metadata": {},
   "outputs": [
    {
     "data": {
      "text/plain": [
       "'numpy.random.rand in the init function, rather than the numpy.random.randn function as shown in the original.'"
      ]
     },
     "execution_count": 55,
     "metadata": {},
     "output_type": "execute_result"
    }
   ],
   "source": [
    "'''numpy.random.rand in the init function, rather than the numpy.random.randn function as shown in the original.'''"
   ]
  },
  {
   "cell_type": "code",
   "execution_count": null,
   "id": "445a870b-116a-40e6-aa9e-73d3f451b971",
   "metadata": {},
   "outputs": [],
   "source": [
    "#9. Write code to increase the ^imension of the following array?\n",
    "[[1, 2, 3, 4]\n",
    "[5, 6, 7, 8],\n",
    "[9, 10, 11, 12]]"
   ]
  },
  {
   "cell_type": "code",
   "execution_count": 56,
   "id": "477a0f09-c91a-4a56-8df9-186b05942734",
   "metadata": {},
   "outputs": [
    {
     "data": {
      "text/plain": [
       "array([[[ 1,  2,  3,  4],\n",
       "        [ 5,  6,  7,  8],\n",
       "        [ 9, 10, 11, 12]]])"
      ]
     },
     "execution_count": 56,
     "metadata": {},
     "output_type": "execute_result"
    }
   ],
   "source": [
    "b= np.expand_dims(arr3, axis=0) \n",
    "b"
   ]
  },
  {
   "cell_type": "code",
   "execution_count": null,
   "id": "1c7e422f-5c78-4370-a798-cc1498f0633b",
   "metadata": {},
   "outputs": [],
   "source": [
    "#10. How to transpose the following array in NumPy?\n",
    "[[1, 2, 3, 4]\n",
    "[5, 6, 7, 8],\n",
    "[9, 10, 11, 12]]"
   ]
  },
  {
   "cell_type": "code",
   "execution_count": 57,
   "id": "730e91d7-90b6-4961-902d-72744a703c16",
   "metadata": {},
   "outputs": [
    {
     "data": {
      "text/plain": [
       "array([[ 1,  2,  3,  4],\n",
       "       [ 5,  6,  7,  8],\n",
       "       [ 9, 10, 11, 12]])"
      ]
     },
     "execution_count": 57,
     "metadata": {},
     "output_type": "execute_result"
    }
   ],
   "source": [
    "arr3"
   ]
  },
  {
   "cell_type": "code",
   "execution_count": 58,
   "id": "1d97a90c-1466-45db-a72f-3c2f1e5e929c",
   "metadata": {},
   "outputs": [
    {
     "data": {
      "text/plain": [
       "array([[ 1,  5,  9],\n",
       "       [ 2,  6, 10],\n",
       "       [ 3,  7, 11],\n",
       "       [ 4,  8, 12]])"
      ]
     },
     "execution_count": 58,
     "metadata": {},
     "output_type": "execute_result"
    }
   ],
   "source": [
    "arr3.T"
   ]
  },
  {
   "cell_type": "code",
   "execution_count": null,
   "id": "d8cc19f7-97bc-40ad-bc4c-5b92a7079da8",
   "metadata": {},
   "outputs": [],
   "source": [
    "#11. Consi^er the following matrix:\n",
    "Matrix A2 [[1, 2, 3, 4] [5, 6, 7, 8],[9, 10, 11, 12]]\n",
    "Matrix B2 [[1, 2, 3, 4] [5, 6, 7, 8],[9, 10, 11, 12]]"
   ]
  },
  {
   "cell_type": "code",
   "execution_count": 59,
   "id": "ac9f9c6d-ac22-4667-be92-6db067c57e60",
   "metadata": {},
   "outputs": [],
   "source": [
    "import numpy.matlib as nm"
   ]
  },
  {
   "cell_type": "code",
   "execution_count": 64,
   "id": "d7c1405a-9451-4618-9510-5ef7cfea18df",
   "metadata": {},
   "outputs": [],
   "source": [
    "A = np.array([[1, 2, 3, 4], [5, 6, 7, 8], [9, 10, 11, 12]])\n",
    "B = np.array([[1, 2, 3, 4], [5, 6, 7, 8], [9, 10, 11, 12]])"
   ]
  },
  {
   "cell_type": "code",
   "execution_count": 65,
   "id": "0f265e72-3fa6-44e0-96a5-a437551458df",
   "metadata": {},
   "outputs": [],
   "source": [
    "result = np.multiply(A, B)"
   ]
  },
  {
   "cell_type": "code",
   "execution_count": 66,
   "id": "fd049258-c7de-42d4-bc90-fc8b6c248b3a",
   "metadata": {},
   "outputs": [
    {
     "data": {
      "text/plain": [
       "array([[  1,   4,   9,  16],\n",
       "       [ 25,  36,  49,  64],\n",
       "       [ 81, 100, 121, 144]])"
      ]
     },
     "execution_count": 66,
     "metadata": {},
     "output_type": "execute_result"
    }
   ],
   "source": [
    "result"
   ]
  },
  {
   "cell_type": "code",
   "execution_count": 68,
   "id": "c7676f9f-6850-4c86-9def-564ccf5ee216",
   "metadata": {},
   "outputs": [
    {
     "data": {
      "text/plain": [
       "array([[1., 1., 1., 1.],\n",
       "       [1., 1., 1., 1.],\n",
       "       [1., 1., 1., 1.]])"
      ]
     },
     "execution_count": 68,
     "metadata": {},
     "output_type": "execute_result"
    }
   ],
   "source": [
    "A/B"
   ]
  },
  {
   "cell_type": "code",
   "execution_count": 69,
   "id": "e732059c-1119-4bfe-a8fa-33374f523d97",
   "metadata": {},
   "outputs": [
    {
     "data": {
      "text/plain": [
       "array([[0, 0, 0, 0],\n",
       "       [0, 0, 0, 0],\n",
       "       [0, 0, 0, 0]])"
      ]
     },
     "execution_count": 69,
     "metadata": {},
     "output_type": "execute_result"
    }
   ],
   "source": [
    "A-B"
   ]
  },
  {
   "cell_type": "code",
   "execution_count": 70,
   "id": "2b95d7d0-7de2-4825-a567-e6cae4b6340b",
   "metadata": {},
   "outputs": [
    {
     "data": {
      "text/plain": [
       "array([[ 2,  4,  6,  8],\n",
       "       [10, 12, 14, 16],\n",
       "       [18, 20, 22, 24]])"
      ]
     },
     "execution_count": 70,
     "metadata": {},
     "output_type": "execute_result"
    }
   ],
   "source": [
    "A+B"
   ]
  },
  {
   "cell_type": "code",
   "execution_count": 71,
   "id": "4692940e-893a-441f-9209-1d4241dacb85",
   "metadata": {},
   "outputs": [
    {
     "data": {
      "text/plain": [
       "array([[1., 1., 1., 1.],\n",
       "       [1., 1., 1., 1.],\n",
       "       [1., 1., 1., 1.]])"
      ]
     },
     "execution_count": 71,
     "metadata": {},
     "output_type": "execute_result"
    }
   ],
   "source": [
    "B/A"
   ]
  },
  {
   "cell_type": "code",
   "execution_count": 72,
   "id": "2afc6d38-b5d8-41e0-aa3e-173f4c11a1f7",
   "metadata": {},
   "outputs": [],
   "source": [
    "#12. Which function in Numpy can be used to swap the byte order of an array?"
   ]
  },
  {
   "cell_type": "code",
   "execution_count": 73,
   "id": "a6967436-dd2b-4b8d-9509-44409024a92a",
   "metadata": {},
   "outputs": [
    {
     "data": {
      "text/plain": [
       "'byteswap()'"
      ]
     },
     "execution_count": 73,
     "metadata": {},
     "output_type": "execute_result"
    }
   ],
   "source": [
    "'''byteswap()'''"
   ]
  },
  {
   "cell_type": "code",
   "execution_count": 74,
   "id": "e77cec35-42be-4421-bf7e-11e8cd5fa80c",
   "metadata": {},
   "outputs": [],
   "source": [
    "#13. What is the significance of the np.linalg.inv function?"
   ]
  },
  {
   "cell_type": "code",
   "execution_count": 78,
   "id": "71802871-2e4b-47ad-9f65-abd03eb033f4",
   "metadata": {},
   "outputs": [
    {
     "data": {
      "text/plain": [
       "'used to find the inverse of matrix'"
      ]
     },
     "execution_count": 78,
     "metadata": {},
     "output_type": "execute_result"
    }
   ],
   "source": [
    "'''used to find the inverse of matrix'''"
   ]
  },
  {
   "cell_type": "code",
   "execution_count": 79,
   "id": "e47e5412-434f-4f09-9d50-931335ed52a4",
   "metadata": {},
   "outputs": [],
   "source": [
    "#14. What does the np.reshape function do, and how is it use^?"
   ]
  },
  {
   "cell_type": "code",
   "execution_count": 80,
   "id": "605ab91e-24e4-4f60-ad15-1d8ea5c26b21",
   "metadata": {},
   "outputs": [
    {
     "data": {
      "text/plain": [
       "'to change the dimension'"
      ]
     },
     "execution_count": 80,
     "metadata": {},
     "output_type": "execute_result"
    }
   ],
   "source": [
    "\"\"\"to change the dimension\"\"\""
   ]
  },
  {
   "cell_type": "code",
   "execution_count": 82,
   "id": "40d3577c-e666-4f7c-8b96-ffd801c41ab1",
   "metadata": {},
   "outputs": [],
   "source": [
    "#15. What is broadcasting in Numpy?"
   ]
  },
  {
   "cell_type": "code",
   "execution_count": 83,
   "id": "513b2b13-cdd5-466c-80ac-b67712111f11",
   "metadata": {},
   "outputs": [
    {
     "data": {
      "text/plain": [
       "'doing some opertion in each element'"
      ]
     },
     "execution_count": 83,
     "metadata": {},
     "output_type": "execute_result"
    }
   ],
   "source": [
    "'''doing some opertion in each element'''"
   ]
  },
  {
   "cell_type": "code",
   "execution_count": null,
   "id": "9f8aa986-d664-4c4a-bbf6-4a977e0448f5",
   "metadata": {},
   "outputs": [],
   "source": []
  }
 ],
 "metadata": {
  "kernelspec": {
   "display_name": "Python 3 (ipykernel)",
   "language": "python",
   "name": "python3"
  },
  "language_info": {
   "codemirror_mode": {
    "name": "ipython",
    "version": 3
   },
   "file_extension": ".py",
   "mimetype": "text/x-python",
   "name": "python",
   "nbconvert_exporter": "python",
   "pygments_lexer": "ipython3",
   "version": "3.10.8"
  }
 },
 "nbformat": 4,
 "nbformat_minor": 5
}
